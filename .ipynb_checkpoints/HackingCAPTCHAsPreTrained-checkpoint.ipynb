{
 "cells": [
  {
   "cell_type": "markdown",
   "metadata": {
    "deletable": true,
    "editable": true
   },
   "source": [
    "# Hacking CAPTCHAs using Machine Learning (II)\n",
    "### Pre-Trained Long-Short Term Memory Neural Network\n",
    "**by: Pablo Mateo**"
   ]
  },
  {
   "cell_type": "markdown",
   "metadata": {
    "deletable": true,
    "editable": true
   },
   "source": [
    "# Situación Inicial\n",
    "Queremos crear un sistema automatizado para registrar usuarios en una web.<br>\n",
    "Para ello vamos a utilizar diversas técnicas.<br>\n",
    "Vamos a crear un script que utilice **Web Scrapping** para extraer la información de un formulario y lo rellene."
   ]
  },
  {
   "cell_type": "markdown",
   "metadata": {
    "deletable": true,
    "editable": true
   },
   "source": [
    "# Problema\n",
    "El formulario cuenta con un campo **CAPTCHA** que se debe completar obligatoriamente.<br>\n",
    "Por ello, debemos crear algún sistema que permita \"leer\" la imagen y rellenar dicho campo.<br>"
   ]
  },
  {
   "cell_type": "markdown",
   "metadata": {
    "deletable": true,
    "editable": true
   },
   "source": [
    "# Solución\n",
    "\n",
    "Vamos a utilizar una **LSTM Neural Network** que descifre el texto contenido en el CAPTCHA utilizando **OCR - Optical Character Recognition**.<br>\n",
    "En este caso, utilizamos una red pre-entrenada con 400.000 caracteres y 100 idiomas realizada por **HP** y posteriormente por **Google** y conocida como **Tesseract OCR Engine**.<br>\n",
    "[Tesseract Link](https://github.com/tesseract-ocr/tesseract)\n",
    "\n",
    "## Importante\n",
    "Dicha red está entrenada con textos claros y legibles. En este ejemplo, los CAPTCHAS se encuentran ligeramente distorsionados y con un fondo que complica su lectura. Por ello, vamos a utilizar diversas técnicas para mejorar la imagen que pasaremos posteriormente a la red."
   ]
  },
  {
   "cell_type": "markdown",
   "metadata": {
    "deletable": true,
    "editable": true
   },
   "source": [
    "**Example URL**: http://example.webscraping.com/places/default/user/register?_next=%2Fplaces%2Fdefault%2Fedit%2FSpain-213"
   ]
  },
  {
   "cell_type": "markdown",
   "metadata": {
    "deletable": true,
    "editable": true
   },
   "source": [
    "![title](OCR/imagesNotebook/register_form.png)"
   ]
  },
  {
   "cell_type": "markdown",
   "metadata": {
    "deletable": true,
    "editable": true
   },
   "source": [
    "## Código\n",
    "Creamos un método para extraer la información de la petición al formulario en formato **JSON**"
   ]
  },
  {
   "cell_type": "code",
   "execution_count": 1,
   "metadata": {
    "collapsed": false,
    "deletable": true,
    "editable": true
   },
   "outputs": [],
   "source": [
    "from lxml.html import fromstring\n",
    "\n",
    "def parse_form(html):\n",
    "    tree = fromstring(html)\n",
    "    data = {}\n",
    "    for e in tree.cssselect('form input'):\n",
    "        if e.get('name'):\n",
    "            data[e.get('name')] = e.get('value')\n",
    "    return data\n"
   ]
  },
  {
   "cell_type": "markdown",
   "metadata": {
    "deletable": true,
    "editable": true
   },
   "source": [
    "## Código\n",
    "Iniciamos una sesión con el servidor y utlizamos el método anterior para parsear la información necesaria.<br>\n",
    "Comprobamos que tenemos los siguientes campos:\n",
    " - Nombre\n",
    " - Apellido\n",
    " - Email\n",
    " - Contraseña\n",
    " - Confirmar contraseña\n",
    " - CAPTCHA\n",
    "  "
   ]
  },
  {
   "cell_type": "code",
   "execution_count": 2,
   "metadata": {
    "collapsed": false,
    "deletable": true,
    "editable": true
   },
   "outputs": [
    {
     "name": "stdout",
     "output_type": "stream",
     "text": [
      "{\n",
      "  \"first_name\": \"\",\n",
      "  \"last_name\": \"\",\n",
      "  \"email\": \"\",\n",
      "  \"password\": \"\",\n",
      "  \"password_two\": \"\",\n",
      "  \"recaptcha_response_field\": null,\n",
      "  \"_next\": \"/places/default/edit/Spain-213\",\n",
      "  \"_formkey\": \"8f92ebea-b84d-4f5a-9287-7b3cbca3ebd4\",\n",
      "  \"_formname\": \"register\"\n",
      "}\n"
     ]
    }
   ],
   "source": [
    "import requests\n",
    "import json\n",
    "\n",
    "REGISTER_URL = 'http://example.webscraping.com/places/default/user/register?_next=%2Fplaces%2Fdefault%2Fedit%2FSpain-213'\n",
    "\n",
    "session = requests.Session()\n",
    "html = session.get(REGISTER_URL)\n",
    "form = parse_form(html.content)\n",
    "\n",
    "print(json.dumps(form, indent=2))"
   ]
  },
  {
   "cell_type": "markdown",
   "metadata": {
    "deletable": true,
    "editable": true
   },
   "source": [
    "## Código\n",
    "Creamos un método para extraer únicamente la imagen del CAPTCHA.<br>\n",
    "Para ello, usamos la etiqueta **div** del código **HTML** de la imagen.<br>"
   ]
  },
  {
   "cell_type": "markdown",
   "metadata": {
    "deletable": true,
    "editable": true
   },
   "source": [
    "![title](OCR/imagesNotebook/web_div_captcha.png)"
   ]
  },
  {
   "cell_type": "markdown",
   "metadata": {
    "deletable": true,
    "editable": true
   },
   "source": [
    "Como podemos comprobar, el texto se encuentra sobre un fondo para complicar su análisis de forma automatizada."
   ]
  },
  {
   "cell_type": "code",
   "execution_count": 3,
   "metadata": {
    "collapsed": false,
    "deletable": true,
    "editable": true
   },
   "outputs": [
    {
     "data": {
      "image/png": "[encoded data removed]",
      "text/plain": [
       "<PIL.PngImagePlugin.PngImageFile image mode=RGB size=256x96 at 0x104E65CF8>"
      ]
     },
     "execution_count": 3,
     "metadata": {},
     "output_type": "execute_result"
    }
   ],
   "source": [
    "from io import BytesIO\n",
    "from lxml.html import fromstring\n",
    "from PIL import Image\n",
    "import base64\n",
    "\n",
    "def get_captcha_img(html):\n",
    "    tree = fromstring(html)\n",
    "    img_data = tree.cssselect('div#recaptcha img')[0].get('src')\n",
    "    img_data = img_data.partition(',')[-1]\n",
    "    binary_img_data = base64.b64decode(img_data)\n",
    "    img = Image.open(BytesIO(binary_img_data))\n",
    "    return img\n",
    "\n",
    "get_captcha_img(html.content)"
   ]
  },
  {
   "cell_type": "markdown",
   "metadata": {
    "deletable": true,
    "editable": true
   },
   "source": [
    "## Código\n",
    "Pasamos esta imagen a **Tesseract** y analizamos su texto.<br>\n",
    "Recordemos que se trata de una red neuronal pre-entrenada.<br><br>\n",
    "**Importante**<br>\n",
    "Cada vez que se ejecuta este código se analiza una imagen diferente.<br>\n",
    "Puede darse la casualidad de que detecte el texto a la perfección. No suele ser lo habitual.<br>\n",
    "En ese caso, no sería necesario el siguiente paso, pero como la red no tiene forma de comprobar si su análisis es correcto, es conveniente implementarlo de todas formas.<br>\n",
    "\n",
    "**Output**<br>\n",
    "Existen 3 posibilidades:<br>\n",
    "- Que la red detecte una palabra pero esta esté mal.\n",
    "- Que la red detecte correctamente la palabra.\n",
    "- Que la red no sea capaz de detectar la palabra del CAPTCHA utilizando sus diccionarios pre-entrenados, devolviendo entonces un **String vacío**."
   ]
  },
  {
   "cell_type": "code",
   "execution_count": 4,
   "metadata": {
    "collapsed": false,
    "deletable": true,
    "editable": true
   },
   "outputs": [
    {
     "name": "stdout",
     "output_type": "stream",
     "text": [
      "No se ha detectado ningún texto en la imagen\n"
     ]
    }
   ],
   "source": [
    "import pytesseract\n",
    "img = get_captcha_img(html.content)\n",
    "stringDetected = pytesseract.image_to_string(img)\n",
    "if stringDetected == '':\n",
    "    print(\"No se ha detectado ningún texto en la imagen\")\n",
    "else:\n",
    "    print(\"String detectado: {}\".format(stringDetected))"
   ]
  },
  {
   "cell_type": "markdown",
   "metadata": {
    "deletable": true,
    "editable": true
   },
   "source": [
    "## Código\n",
    "Salvo que la palabra sea detectada correctamente, lo cual es poco probable, vamos a modificar la imagen para que muestre el texto de la forma más similar posible al input usado como valores de entrenamiento de la red.<br><br>\n",
    "Para ello, primero vamos a convertir la imagen a **escala de grises**.<br>\n",
    "Después, vamos a modificar el **Threshold** de la imagen. Iteramos por cada uno de los pixels y nos quedamos con aquellos que sean muy próximos a 1 (negro), haciendo que el resto se conviertan en blanco (255).<br><br>\n",
    "En la carpeta del proyecto se pueden estas imagénes generadas:<br>\n",
    "- **captcha_original.png** -> Imagen original.\n",
    "- **captcha_gray.png** -> Imagen modificada a escala de grises.\n",
    "- **captcha_thresholded.png** -> Imagen modificada usando el Threshold."
   ]
  },
  {
   "cell_type": "code",
   "execution_count": 5,
   "metadata": {
    "collapsed": false,
    "deletable": true,
    "editable": true
   },
   "outputs": [],
   "source": [
    "img.save('OCR/generatedImages/captcha_original.png')\n",
    "gray = img.convert('L')\n",
    "gray.save('OCR/generatedImages/captcha_gray.png')\n",
    "bw = gray.point(lambda x: 0 if x < 1 else 255, '1')\n",
    "bw.save('OCR/generatedImages/captcha_thresholded.png')"
   ]
  },
  {
   "cell_type": "markdown",
   "metadata": {
    "deletable": true,
    "editable": true
   },
   "source": [
    "## Código\n",
    "Repetimos el proceso de análisis pero en esta ocasión utilizando la imagen modificada.<br>\n",
    "Al final del ejercicio comprobamos el nivel de acierto de esta técnica sobre una muestra de 100 ejemplos.<br>\n",
    "En pruebas anteriores, esta técnica ha demostrado un nivel de efectividad del **92%**."
   ]
  },
  {
   "cell_type": "code",
   "execution_count": 6,
   "metadata": {
    "collapsed": false,
    "deletable": true,
    "editable": true
   },
   "outputs": [
    {
     "name": "stdout",
     "output_type": "stream",
     "text": [
      "String detectado tras modificación:\n",
      "complex\n"
     ]
    }
   ],
   "source": [
    "newStringDetected = pytesseract.image_to_string(bw)\n",
    "print(\"String detectado tras modificación:\")\n",
    "print(\"{}\".format(newStringDetected))"
   ]
  },
  {
   "cell_type": "markdown",
   "metadata": {
    "deletable": true,
    "editable": true
   },
   "source": [
    "## Código\n",
    "Comprobado que funciona, aislamos el método de conversión de imagen para utilizarlo en nuestro script."
   ]
  },
  {
   "cell_type": "code",
   "execution_count": 7,
   "metadata": {
    "collapsed": false,
    "deletable": true,
    "editable": true
   },
   "outputs": [],
   "source": [
    "def img_to_bw(img):\n",
    "    gray = img.convert('L')\n",
    "    bw = gray.point(lambda x: 0 if x < 1 else 255, '1')\n",
    "    return bw"
   ]
  },
  {
   "cell_type": "markdown",
   "metadata": {
    "deletable": true,
    "editable": true
   },
   "source": [
    "# Script de Registro Automatizado\n",
    "Tras las pruebas anteriores, creamos un script que nos registrará en la web.<br>\n",
    "Si todo funciona, veremos un mensaje indicativo.<br>\n",
    "De esta forma sólo tenemos que pasar los datos del usuario al que queremos registrar para hacerlo.<br>\n",
    "En caso de que queramos bypasear el formulario de forma masiva, sólo tendríamos que usar un listado de usuarios."
   ]
  },
  {
   "cell_type": "code",
   "execution_count": 8,
   "metadata": {
    "collapsed": true,
    "deletable": true,
    "editable": true
   },
   "outputs": [],
   "source": [
    "import string\n",
    "\n",
    "def register(first_name, last_name, email, password):\n",
    "    session = requests.Session()\n",
    "    html = session.get(REGISTER_URL)\n",
    "    form = parse_form(html.content)\n",
    "    form['first_name'] = first_name\n",
    "    form['last_name'] = last_name\n",
    "    form['email'] = email\n",
    "    form['password'] = form['password_two'] = password\n",
    "    img = get_captcha_img(html.content)\n",
    "    captcha = ocr(img)\n",
    "    form['recaptcha_response_field'] = captcha\n",
    "    resp = session.post(html.url, form)\n",
    "    success = '/user/register' not in resp.url\n",
    "    if not success:\n",
    "        form_errors = fromstring(resp.content).cssselect('div.error')\n",
    "        print('Form Errors:')\n",
    "        print('\\n'.join(\n",
    "            ('  {}: {}'.format(f.get('id'), f.text) for f in form_errors)))\n",
    "    if success:\n",
    "        print(\"¡Usuario Registrado correctamente!\")\n",
    "        print(\"Datos de registro:\")\n",
    "        print(\"\\t Nombre: {}\".format(first_name))\n",
    "        print(\"\\t Apellido: {}\".format(last_name))\n",
    "        print(\"\\t Email: {}\".format(email))\n",
    "        print(\"\\t Contraseña: {}\".format(password))\n",
    "        print(\"\\t CAPTCHA: {}\".format(captcha))\n",
    "    return success\n",
    "\n",
    "\n",
    "def ocr(img):\n",
    "    bw = img_to_bw(img)\n",
    "    captcha = pytesseract.image_to_string(bw)\n",
    "    cleaned = ''.join(c for c in captcha.lower() if c in string.ascii_lowercase)\n",
    "    if len(cleaned) != len(captcha):\n",
    "        print('Caracteres mal detectados: {}'.format(set(captcha) - set(cleaned)))\n",
    "    return cleaned\n"
   ]
  },
  {
   "cell_type": "markdown",
   "metadata": {
    "deletable": true,
    "editable": true
   },
   "source": [
    "## Código\n",
    "¡Probamos a registrar a un usuario!"
   ]
  },
  {
   "cell_type": "code",
   "execution_count": 9,
   "metadata": {
    "collapsed": false,
    "deletable": true,
    "editable": true
   },
   "outputs": [
    {
     "name": "stdout",
     "output_type": "stream",
     "text": [
      "¡Usuario Registrado correctamente!\n",
      "Datos de registro:\n",
      "\t Nombre: test\n",
      "\t Apellido: test\n",
      "\t Email: eamil7@test.com\n",
      "\t Contraseña: 1234\n",
      "\t CAPTCHA: woman\n"
     ]
    },
    {
     "data": {
      "text/plain": [
       "True"
      ]
     },
     "execution_count": 9,
     "metadata": {},
     "output_type": "execute_result"
    }
   ],
   "source": [
    "register(\"test\", \"test\", \"eamil7@test.com\", \"1234\")"
   ]
  },
  {
   "cell_type": "markdown",
   "metadata": {
    "deletable": true,
    "editable": true
   },
   "source": [
    "# Validación\n",
    "Una vez comprobado que funciona y que somos capaces de **Hackear la validación por CAPTCHA**, vamos a comprobar cómo de efectivo es nuestro sistema haciéndolo.<br>\n",
    "Para ello, y con idea de que no sea muy largo, he guardado en una carpeta **100 imágenes** generadas por el algoritmo del CAPTCHA junto con un documento **csv** en el que se muestra la solución de cada una.<br>\n",
    "Usaremos esta pequeña muestra para testear la efectividad.<br><br>\n",
    "\n",
    "Básicamente el sistema analiza cada imagen, determina qué texto es el que muestra y lo compara con la respuesta del documento excel. Si coinciden, habrá acertado, en caso contrario, habrá fallado.<br>\n",
    "Para darse por válido, la respuesta debe coincidir al 100%."
   ]
  },
  {
   "cell_type": "code",
   "execution_count": 10,
   "metadata": {
    "collapsed": false,
    "deletable": true,
    "editable": true
   },
   "outputs": [],
   "source": [
    "import os\n",
    "from PIL import Image\n",
    "from csv import reader\n",
    "\n",
    "SAMPLES_DIR = os.path.join(\n",
    "    os.path.dirname(os.path.abspath('')),\n",
    "    'JupyterNotebooksCode', 'OCR', 'captcha_samples')\n",
    "\n",
    "\n",
    "def get_rdr(samples_folder=SAMPLES_DIR):\n",
    "    return reader(open(os.path.join(samples_folder, 'samples.csv')))\n",
    "\n",
    "\n",
    "def test_samples(samples_folder=SAMPLES_DIR):\n",
    "    rdr = get_rdr(samples_folder=samples_folder)\n",
    "    results = {'Correcto': 0, 'Incorrecto': 0}\n",
    "    for fname, txt in rdr:\n",
    "        img = Image.open(os.path.join(samples_folder, fname))\n",
    "        captcha = ocr(img)\n",
    "        if captcha == txt:\n",
    "            results['Correcto'] += 1\n",
    "        else:\n",
    "            results['Incorrecto'] += 1\n",
    "    print('Efectividad: {}%'.format(results['Correcto'] / 100.0))\n",
    "    print('Resultados Obtenidos en el Test: ', results)\n",
    "    print(\"\")\n",
    "    print(\"---------\\n\")\n",
    "    print(\"Nuestro sistema es capaz de descifrar el CAPTCHA en un: {}% de las ocasiones\\n\".format(results['Correcto']))\n",
    "    print(\"---------\")\n",
    "    return results"
   ]
  },
  {
   "cell_type": "code",
   "execution_count": 11,
   "metadata": {
    "collapsed": false,
    "deletable": true,
    "editable": true
   },
   "outputs": [
    {
     "name": "stdout",
     "output_type": "stream",
     "text": [
      "Caracteres mal detectados: {'8', 'H', '4'}\n",
      "Caracteres mal detectados: {' ', '-'}\n",
      "Caracteres mal detectados: {'‘'}\n",
      "Caracteres mal detectados: {' ', '_'}\n",
      "Efectividad: 0.92%\n",
      "Resultados Obtenidos en el Test:  {'Correcto': 92, 'Incorrecto': 8}\n",
      "\n",
      "---------\n",
      "\n",
      "Nuestro sistema es capaz de descifrar el CAPTCHA en un: 92% de las ocasiones\n",
      "\n",
      "---------\n"
     ]
    },
    {
     "data": {
      "text/plain": [
       "{'Correcto': 92, 'Incorrecto': 8}"
      ]
     },
     "execution_count": 11,
     "metadata": {},
     "output_type": "execute_result"
    }
   ],
   "source": [
    "test_samples()"
   ]
  },
  {
   "cell_type": "code",
   "execution_count": null,
   "metadata": {
    "collapsed": true,
    "deletable": true,
    "editable": true
   },
   "outputs": [],
   "source": []
  }
 ],
 "metadata": {
  "kernelspec": {
   "display_name": "Python [conda env:pmateoCAPTCHAS]",
   "language": "python",
   "name": "conda-env-pmateoCAPTCHAS-py"
  },
  "language_info": {
   "codemirror_mode": {
    "name": "ipython",
    "version": 3
   },
   "file_extension": ".py",
   "mimetype": "text/x-python",
   "name": "python",
   "nbconvert_exporter": "python",
   "pygments_lexer": "ipython3",
   "version": "3.6.0"
  }
 },
 "nbformat": 4,
 "nbformat_minor": 2
}
